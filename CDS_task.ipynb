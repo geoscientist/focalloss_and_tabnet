{
 "cells": [
  {
   "cell_type": "markdown",
   "id": "c5fd7f60",
   "metadata": {},
   "source": [
    "1. Необходимо решить задачу классификации, используя данные из файла train.csv\n",
    "\n",
    "В файле 300000 строк, содержащих:\n",
    "- id пользователя,\n",
    "- target - класс пользователя, который модель должна научиться прогнозировать,\n",
    "- c_0 ... c_68 - признаки, характеризующие пользователя.\n",
    "    \n",
    "В решении нужно пройти все стандартные этапы построения модели:\n",
    "1. Анализ данных\n",
    "2. Предобработка данных\n",
    "3. Разделить данные на обучение и валидацию\n",
    "4. Обучить модель\n",
    "5. Оценить метрики\n",
    "6. Сделать выводы\n",
    "\n",
    "Рекомендуется использовать описание, позволяющие понять вашу логику и ход выполнения задачи.\n",
    "Приветсвуются графики, применение различных подходов, хорошее качество кода.    "
   ]
  },
  {
   "cell_type": "markdown",
   "id": "ab5d809d",
   "metadata": {},
   "source": [
    "2. Решите задачу вторым способом с использованием инновационного подхода, приложите ссылку на его описание, сравните с первоначальным решением, сделайте выводы.\n",
    "Если подходящих идей на примете нет, можно использовать статью:  \n",
    "Focal loss implementation for LightGBM https://maxhalford.github.io/blog/lightgbm-focal-loss/  \n",
    "Написать, какой получился эффект от применения, как подбирались параметры.\n",
    "    \n",
    "3. Напишите скоринг получившейся модели с помощью spark, с целью сокращения времени скоринга на миллионах записей.  \n",
    "Для этого предлагается использовать google colab https://colab.research.google.com, пример создания spark сессии приложен в файле PySpark.ipynb.  \n",
    "Можно проскорить только sample файла."
   ]
  },
  {
   "cell_type": "code",
   "execution_count": 1,
   "id": "fe312021-6714-4b66-a233-c926b3f3a3eb",
   "metadata": {},
   "outputs": [],
   "source": [
    "import pandas as pd\n",
    "import seaborn as sns\n",
    "import matplotlib.pyplot as plt\n",
    "import json\n",
    "import pickle\n",
    "import warnings\n",
    "warnings.filterwarnings('ignore')"
   ]
  },
  {
   "cell_type": "code",
   "execution_count": 2,
   "id": "5e8c9bec-8b6f-4130-aba9-e18159528c2c",
   "metadata": {},
   "outputs": [],
   "source": [
    "sns.set(rc={'figure.figsize':(15,10)})"
   ]
  },
  {
   "cell_type": "markdown",
   "id": "2702fbd2-a2c4-4aab-929a-7e4221613342",
   "metadata": {},
   "source": [
    "# Exploratory Data Analysis"
   ]
  },
  {
   "cell_type": "code",
   "execution_count": 3,
   "id": "cf30ae4b",
   "metadata": {
    "tags": []
   },
   "outputs": [
    {
     "name": "stdout",
     "output_type": "stream",
     "text": [
      "Размерность данных -  (300000, 71)\n"
     ]
    }
   ],
   "source": [
    "df = pd.read_csv('train.csv')\n",
    "print(\"Размерность данных - \", df.shape)"
   ]
  },
  {
   "cell_type": "code",
   "execution_count": 4,
   "id": "5deac24e-53ae-4ecb-8a8b-7f59819f5359",
   "metadata": {},
   "outputs": [
    {
     "name": "stdout",
     "output_type": "stream",
     "text": [
      "<class 'pandas.core.frame.DataFrame'>\n",
      "RangeIndex: 300000 entries, 0 to 299999\n",
      "Data columns (total 71 columns):\n",
      " #   Column  Non-Null Count   Dtype  \n",
      "---  ------  --------------   -----  \n",
      " 0   id      300000 non-null  int64  \n",
      " 1   target  300000 non-null  int64  \n",
      " 2   c_0     158574 non-null  float64\n",
      " 3   c_1     268104 non-null  object \n",
      " 4   c_2     174055 non-null  float64\n",
      " 5   c_3     300000 non-null  object \n",
      " 6   c_4     300000 non-null  int64  \n",
      " 7   c_5     300000 non-null  object \n",
      " 8   c_6     300000 non-null  object \n",
      " 9   c_7     300000 non-null  int64  \n",
      " 10  c_8     300000 non-null  int64  \n",
      " 11  c_9     300000 non-null  int64  \n",
      " 12  c_10    300000 non-null  float64\n",
      " 13  c_11    300000 non-null  object \n",
      " 14  c_12    278878 non-null  object \n",
      " 15  c_13    300000 non-null  object \n",
      " 16  c_14    300000 non-null  int64  \n",
      " 17  c_15    299906 non-null  float64\n",
      " 18  c_16    300000 non-null  object \n",
      " 19  c_17    278878 non-null  float64\n",
      " 20  c_18    278878 non-null  object \n",
      " 21  c_19    278878 non-null  object \n",
      " 22  c_20    300000 non-null  object \n",
      " 23  c_21    300000 non-null  int64  \n",
      " 24  c_22    300000 non-null  int64  \n",
      " 25  c_23    300000 non-null  object \n",
      " 26  c_24    300000 non-null  int64  \n",
      " 27  c_25    300000 non-null  int64  \n",
      " 28  c_26    276551 non-null  float64\n",
      " 29  c_27    300000 non-null  object \n",
      " 30  c_28    300000 non-null  object \n",
      " 31  c_29    300000 non-null  int64  \n",
      " 32  c_30    300000 non-null  object \n",
      " 33  c_31    293317 non-null  float64\n",
      " 34  c_32    300000 non-null  object \n",
      " 35  c_33    300000 non-null  object \n",
      " 36  c_34    300000 non-null  object \n",
      " 37  c_35    278878 non-null  float64\n",
      " 38  c_36    300000 non-null  object \n",
      " 39  c_37    299734 non-null  object \n",
      " 40  c_38    300000 non-null  object \n",
      " 41  c_39    300000 non-null  int64  \n",
      " 42  c_40    300000 non-null  object \n",
      " 43  c_41    300000 non-null  object \n",
      " 44  c_42    25425 non-null   float64\n",
      " 45  c_43    300000 non-null  object \n",
      " 46  c_44    300000 non-null  object \n",
      " 47  c_45    284231 non-null  float64\n",
      " 48  c_46    297679 non-null  float64\n",
      " 49  c_47    300000 non-null  int64  \n",
      " 50  c_48    300000 non-null  object \n",
      " 51  c_49    300000 non-null  object \n",
      " 52  c_50    300000 non-null  object \n",
      " 53  c_51    300000 non-null  int64  \n",
      " 54  c_52    300000 non-null  object \n",
      " 55  c_53    300000 non-null  object \n",
      " 56  c_54    29277 non-null   object \n",
      " 57  c_55    300000 non-null  object \n",
      " 58  c_56    300000 non-null  object \n",
      " 59  c_57    295453 non-null  object \n",
      " 60  c_58    300000 non-null  object \n",
      " 61  c_59    299906 non-null  float64\n",
      " 62  c_60    300000 non-null  object \n",
      " 63  c_61    300000 non-null  object \n",
      " 64  c_62    300000 non-null  object \n",
      " 65  c_63    300000 non-null  object \n",
      " 66  c_64    268379 non-null  float64\n",
      " 67  c_65    296295 non-null  object \n",
      " 68  c_66    300000 non-null  object \n",
      " 69  c_67    7107 non-null    object \n",
      " 70  c_68    300000 non-null  int64  \n",
      "dtypes: float64(13), int64(16), object(42)\n",
      "memory usage: 162.5+ MB\n"
     ]
    }
   ],
   "source": [
    "df.info()"
   ]
  },
  {
   "cell_type": "code",
   "execution_count": 5,
   "id": "5cf9a0c7-c2d3-43f0-a98b-7ffb8bf1af9c",
   "metadata": {},
   "outputs": [
    {
     "data": {
      "text/html": [
       "<div>\n",
       "<style scoped>\n",
       "    .dataframe tbody tr th:only-of-type {\n",
       "        vertical-align: middle;\n",
       "    }\n",
       "\n",
       "    .dataframe tbody tr th {\n",
       "        vertical-align: top;\n",
       "    }\n",
       "\n",
       "    .dataframe thead th {\n",
       "        text-align: right;\n",
       "    }\n",
       "</style>\n",
       "<table border=\"1\" class=\"dataframe\">\n",
       "  <thead>\n",
       "    <tr style=\"text-align: right;\">\n",
       "      <th></th>\n",
       "      <th>id</th>\n",
       "      <th>target</th>\n",
       "      <th>c_0</th>\n",
       "      <th>c_1</th>\n",
       "      <th>c_2</th>\n",
       "      <th>c_3</th>\n",
       "      <th>c_4</th>\n",
       "      <th>c_5</th>\n",
       "      <th>c_6</th>\n",
       "      <th>c_7</th>\n",
       "      <th>...</th>\n",
       "      <th>c_59</th>\n",
       "      <th>c_60</th>\n",
       "      <th>c_61</th>\n",
       "      <th>c_62</th>\n",
       "      <th>c_63</th>\n",
       "      <th>c_64</th>\n",
       "      <th>c_65</th>\n",
       "      <th>c_66</th>\n",
       "      <th>c_67</th>\n",
       "      <th>c_68</th>\n",
       "    </tr>\n",
       "  </thead>\n",
       "  <tbody>\n",
       "    <tr>\n",
       "      <th>0</th>\n",
       "      <td>0</td>\n",
       "      <td>0</td>\n",
       "      <td>0.8</td>\n",
       "      <td>60,0000000000</td>\n",
       "      <td>0.0</td>\n",
       "      <td>1,02136290152217</td>\n",
       "      <td>61</td>\n",
       "      <td>0,4961666866</td>\n",
       "      <td>773,266666666667</td>\n",
       "      <td>-1034</td>\n",
       "      <td>...</td>\n",
       "      <td>0.000000</td>\n",
       "      <td>0,0109016044229545</td>\n",
       "      <td>0,39</td>\n",
       "      <td>7,88888888888889</td>\n",
       "      <td>6,2105</td>\n",
       "      <td>0.000000</td>\n",
       "      <td>NaN</td>\n",
       "      <td>15,5</td>\n",
       "      <td>NaN</td>\n",
       "      <td>2</td>\n",
       "    </tr>\n",
       "    <tr>\n",
       "      <th>1</th>\n",
       "      <td>1</td>\n",
       "      <td>0</td>\n",
       "      <td>NaN</td>\n",
       "      <td>795,0000000000</td>\n",
       "      <td>0.0</td>\n",
       "      <td>0,951475264778514</td>\n",
       "      <td>796</td>\n",
       "      <td>0,3956735027</td>\n",
       "      <td>2639,16666666667</td>\n",
       "      <td>-2527</td>\n",
       "      <td>...</td>\n",
       "      <td>0.000000</td>\n",
       "      <td>0,00432523750887058</td>\n",
       "      <td>0,66</td>\n",
       "      <td>2,37777777777778</td>\n",
       "      <td>7,7273</td>\n",
       "      <td>0.000000</td>\n",
       "      <td>NaN</td>\n",
       "      <td>15</td>\n",
       "      <td>NaN</td>\n",
       "      <td>4</td>\n",
       "    </tr>\n",
       "    <tr>\n",
       "      <th>2</th>\n",
       "      <td>2</td>\n",
       "      <td>1</td>\n",
       "      <td>NaN</td>\n",
       "      <td>60,0000000000</td>\n",
       "      <td>NaN</td>\n",
       "      <td>0,99988002687398</td>\n",
       "      <td>61</td>\n",
       "      <td>0,8216901553</td>\n",
       "      <td>0</td>\n",
       "      <td>-1034</td>\n",
       "      <td>...</td>\n",
       "      <td>0.041783</td>\n",
       "      <td>0,0131991958087561</td>\n",
       "      <td>0,00</td>\n",
       "      <td>6,61111111111111</td>\n",
       "      <td>9,7619</td>\n",
       "      <td>1.333333</td>\n",
       "      <td>NaN</td>\n",
       "      <td>13</td>\n",
       "      <td>NaN</td>\n",
       "      <td>2</td>\n",
       "    </tr>\n",
       "    <tr>\n",
       "      <th>3</th>\n",
       "      <td>3</td>\n",
       "      <td>0</td>\n",
       "      <td>NaN</td>\n",
       "      <td>52,0000000000</td>\n",
       "      <td>0.0</td>\n",
       "      <td>0,581632653061224</td>\n",
       "      <td>53</td>\n",
       "      <td>0,4237069155</td>\n",
       "      <td>3577,06666666667</td>\n",
       "      <td>-1034</td>\n",
       "      <td>...</td>\n",
       "      <td>0.000000</td>\n",
       "      <td>0,00235103871497875</td>\n",
       "      <td>0,66</td>\n",
       "      <td>3,57777777777778</td>\n",
       "      <td>7,2000</td>\n",
       "      <td>0.000000</td>\n",
       "      <td>NaN</td>\n",
       "      <td>15,5</td>\n",
       "      <td>NaN</td>\n",
       "      <td>4</td>\n",
       "    </tr>\n",
       "    <tr>\n",
       "      <th>4</th>\n",
       "      <td>4</td>\n",
       "      <td>0</td>\n",
       "      <td>NaN</td>\n",
       "      <td>30,0000000000</td>\n",
       "      <td>0.0</td>\n",
       "      <td>5,79993040089983E-06</td>\n",
       "      <td>61</td>\n",
       "      <td>0,4898688295</td>\n",
       "      <td>0,0666666666666667</td>\n",
       "      <td>-1034</td>\n",
       "      <td>...</td>\n",
       "      <td>0.086351</td>\n",
       "      <td>-7,78275749974827E-05</td>\n",
       "      <td>0,00</td>\n",
       "      <td>10,3333333333333</td>\n",
       "      <td>2,7647</td>\n",
       "      <td>0.000000</td>\n",
       "      <td>NaN</td>\n",
       "      <td>15,5</td>\n",
       "      <td>NaN</td>\n",
       "      <td>2</td>\n",
       "    </tr>\n",
       "    <tr>\n",
       "      <th>5</th>\n",
       "      <td>5</td>\n",
       "      <td>0</td>\n",
       "      <td>0.2</td>\n",
       "      <td>23,0000000000</td>\n",
       "      <td>NaN</td>\n",
       "      <td>0,999996284855486</td>\n",
       "      <td>10</td>\n",
       "      <td>0,4388398238</td>\n",
       "      <td>133,6</td>\n",
       "      <td>-1034</td>\n",
       "      <td>...</td>\n",
       "      <td>0.000000</td>\n",
       "      <td>0,0109840047850247</td>\n",
       "      <td>0,28</td>\n",
       "      <td>5,27777777777778</td>\n",
       "      <td>7,4737</td>\n",
       "      <td>0.000000</td>\n",
       "      <td>NaN</td>\n",
       "      <td>4</td>\n",
       "      <td>NaN</td>\n",
       "      <td>2</td>\n",
       "    </tr>\n",
       "    <tr>\n",
       "      <th>6</th>\n",
       "      <td>6</td>\n",
       "      <td>0</td>\n",
       "      <td>NaN</td>\n",
       "      <td>56,0000000000</td>\n",
       "      <td>2.0</td>\n",
       "      <td>0,999981800222037</td>\n",
       "      <td>57</td>\n",
       "      <td>0,4635223845</td>\n",
       "      <td>956,966666666667</td>\n",
       "      <td>-1030</td>\n",
       "      <td>...</td>\n",
       "      <td>0.000000</td>\n",
       "      <td>0,00432125834982328</td>\n",
       "      <td>0,32</td>\n",
       "      <td>9,98888888888889</td>\n",
       "      <td>59,0000</td>\n",
       "      <td>0.000000</td>\n",
       "      <td>NaN</td>\n",
       "      <td>14</td>\n",
       "      <td>NaN</td>\n",
       "      <td>3</td>\n",
       "    </tr>\n",
       "    <tr>\n",
       "      <th>7</th>\n",
       "      <td>7</td>\n",
       "      <td>0</td>\n",
       "      <td>NaN</td>\n",
       "      <td>NaN</td>\n",
       "      <td>NaN</td>\n",
       "      <td>0,249999676282213</td>\n",
       "      <td>61</td>\n",
       "      <td>0,3972425075</td>\n",
       "      <td>0</td>\n",
       "      <td>-1002</td>\n",
       "      <td>...</td>\n",
       "      <td>0.047354</td>\n",
       "      <td>0,0112352735528293</td>\n",
       "      <td>0,00</td>\n",
       "      <td>7,35555555555556</td>\n",
       "      <td>26,0000</td>\n",
       "      <td>1.416667</td>\n",
       "      <td>NaN</td>\n",
       "      <td>15,5</td>\n",
       "      <td>NaN</td>\n",
       "      <td>2</td>\n",
       "    </tr>\n",
       "    <tr>\n",
       "      <th>8</th>\n",
       "      <td>8</td>\n",
       "      <td>0</td>\n",
       "      <td>NaN</td>\n",
       "      <td>52,0000000000</td>\n",
       "      <td>1.0</td>\n",
       "      <td>0,337699034415271</td>\n",
       "      <td>53</td>\n",
       "      <td>0,4527762075</td>\n",
       "      <td>1580,5</td>\n",
       "      <td>-1034</td>\n",
       "      <td>...</td>\n",
       "      <td>0.000000</td>\n",
       "      <td>0,00432504583368607</td>\n",
       "      <td>0,54</td>\n",
       "      <td>7,32222222222222</td>\n",
       "      <td>29,0000</td>\n",
       "      <td>0.000000</td>\n",
       "      <td>NaN</td>\n",
       "      <td>14,5</td>\n",
       "      <td>NaN</td>\n",
       "      <td>5</td>\n",
       "    </tr>\n",
       "    <tr>\n",
       "      <th>9</th>\n",
       "      <td>9</td>\n",
       "      <td>0</td>\n",
       "      <td>NaN</td>\n",
       "      <td>NaN</td>\n",
       "      <td>0.0</td>\n",
       "      <td>0,950913877164618</td>\n",
       "      <td>31</td>\n",
       "      <td>0,0000000000</td>\n",
       "      <td>0,266666666666667</td>\n",
       "      <td>-1034</td>\n",
       "      <td>...</td>\n",
       "      <td>0.000000</td>\n",
       "      <td>-0,0142384098311539</td>\n",
       "      <td>0,50</td>\n",
       "      <td>4,35555555555556</td>\n",
       "      <td>13,6667</td>\n",
       "      <td>0.000000</td>\n",
       "      <td>NaN</td>\n",
       "      <td>1,66666666666667</td>\n",
       "      <td>NaN</td>\n",
       "      <td>1</td>\n",
       "    </tr>\n",
       "  </tbody>\n",
       "</table>\n",
       "<p>10 rows × 71 columns</p>\n",
       "</div>"
      ],
      "text/plain": [
       "   id  target  c_0             c_1  c_2                   c_3  c_4  \\\n",
       "0   0       0  0.8   60,0000000000  0.0      1,02136290152217   61   \n",
       "1   1       0  NaN  795,0000000000  0.0     0,951475264778514  796   \n",
       "2   2       1  NaN   60,0000000000  NaN      0,99988002687398   61   \n",
       "3   3       0  NaN   52,0000000000  0.0     0,581632653061224   53   \n",
       "4   4       0  NaN   30,0000000000  0.0  5,79993040089983E-06   61   \n",
       "5   5       0  0.2   23,0000000000  NaN     0,999996284855486   10   \n",
       "6   6       0  NaN   56,0000000000  2.0     0,999981800222037   57   \n",
       "7   7       0  NaN             NaN  NaN     0,249999676282213   61   \n",
       "8   8       0  NaN   52,0000000000  1.0     0,337699034415271   53   \n",
       "9   9       0  NaN             NaN  0.0     0,950913877164618   31   \n",
       "\n",
       "            c_5                 c_6   c_7  ...      c_59  \\\n",
       "0  0,4961666866    773,266666666667 -1034  ...  0.000000   \n",
       "1  0,3956735027    2639,16666666667 -2527  ...  0.000000   \n",
       "2  0,8216901553                   0 -1034  ...  0.041783   \n",
       "3  0,4237069155    3577,06666666667 -1034  ...  0.000000   \n",
       "4  0,4898688295  0,0666666666666667 -1034  ...  0.086351   \n",
       "5  0,4388398238               133,6 -1034  ...  0.000000   \n",
       "6  0,4635223845    956,966666666667 -1030  ...  0.000000   \n",
       "7  0,3972425075                   0 -1002  ...  0.047354   \n",
       "8  0,4527762075              1580,5 -1034  ...  0.000000   \n",
       "9  0,0000000000   0,266666666666667 -1034  ...  0.000000   \n",
       "\n",
       "                    c_60  c_61              c_62     c_63      c_64  c_65  \\\n",
       "0     0,0109016044229545  0,39  7,88888888888889   6,2105  0.000000   NaN   \n",
       "1    0,00432523750887058  0,66  2,37777777777778   7,7273  0.000000   NaN   \n",
       "2     0,0131991958087561  0,00  6,61111111111111   9,7619  1.333333   NaN   \n",
       "3    0,00235103871497875  0,66  3,57777777777778   7,2000  0.000000   NaN   \n",
       "4  -7,78275749974827E-05  0,00  10,3333333333333   2,7647  0.000000   NaN   \n",
       "5     0,0109840047850247  0,28  5,27777777777778   7,4737  0.000000   NaN   \n",
       "6    0,00432125834982328  0,32  9,98888888888889  59,0000  0.000000   NaN   \n",
       "7     0,0112352735528293  0,00  7,35555555555556  26,0000  1.416667   NaN   \n",
       "8    0,00432504583368607  0,54  7,32222222222222  29,0000  0.000000   NaN   \n",
       "9    -0,0142384098311539  0,50  4,35555555555556  13,6667  0.000000   NaN   \n",
       "\n",
       "               c_66 c_67  c_68  \n",
       "0              15,5  NaN     2  \n",
       "1                15  NaN     4  \n",
       "2                13  NaN     2  \n",
       "3              15,5  NaN     4  \n",
       "4              15,5  NaN     2  \n",
       "5                 4  NaN     2  \n",
       "6                14  NaN     3  \n",
       "7              15,5  NaN     2  \n",
       "8              14,5  NaN     5  \n",
       "9  1,66666666666667  NaN     1  \n",
       "\n",
       "[10 rows x 71 columns]"
      ]
     },
     "execution_count": 5,
     "metadata": {},
     "output_type": "execute_result"
    }
   ],
   "source": [
    "df.head(10)"
   ]
  },
  {
   "cell_type": "markdown",
   "id": "e8f69481-a844-4df3-84d9-5f11b31baaff",
   "metadata": {},
   "source": [
    "Как мы можем видеть описание пользователя содержит преимущественно числовые признаки и несколько текстовых (категорийных). Необходимо:  \n",
    "1. выполнить преобразование атрибутов типа 'object' к соответствующему типу данных\n",
    "2. Заполнить пропуски в данных"
   ]
  },
  {
   "cell_type": "code",
   "execution_count": 6,
   "id": "509d9ee5-a381-424f-b952-9facb6b40145",
   "metadata": {},
   "outputs": [],
   "source": [
    "string_cols = ['c_16', 'c_41', 'c_54', 'c_67']"
   ]
  },
  {
   "cell_type": "code",
   "execution_count": 7,
   "id": "068f6eea-f027-4408-805d-09dcf9b9fb6d",
   "metadata": {},
   "outputs": [],
   "source": [
    "# обработка атрибутов типа 'object'\n",
    "for i in df.columns:\n",
    "    if (df.dtypes[i] == 'object') & (i not in string_cols):\n",
    "        df[i] = df[i].str.replace(',', '.').astype(float)\n",
    "    elif (df.dtypes[i] == 'object') & (i in string_cols):\n",
    "        df[i] = df[i].astype('string')"
   ]
  },
  {
   "cell_type": "markdown",
   "id": "3bcb620f-689c-4279-97c5-13c76f3063e7",
   "metadata": {},
   "source": [
    "### Заполнение пропусков в данных"
   ]
  },
  {
   "cell_type": "markdown",
   "id": "8b661a92-bce3-4ac8-a7ef-167a8cbf2a21",
   "metadata": {},
   "source": [
    "Для вещественных атрибутов заполним пропуски средними значениями, для текстовых - введем дополнительное значение 'NA'"
   ]
  },
  {
   "cell_type": "code",
   "execution_count": 8,
   "id": "2b9f9c7e-1e04-4dda-8f56-3a9e21ef09e5",
   "metadata": {},
   "outputs": [],
   "source": [
    "for i in df.select_dtypes(include=['float64']):\n",
    "    df[i] = df[i].fillna(df[i].mean())"
   ]
  },
  {
   "cell_type": "code",
   "execution_count": 9,
   "id": "7e397669-173a-473f-957a-1b35855fdf8d",
   "metadata": {},
   "outputs": [],
   "source": [
    "df.c_54 = df.c_54.fillna('NA')\n",
    "df.c_67 = df.c_67.fillna('NA')"
   ]
  },
  {
   "cell_type": "markdown",
   "id": "d7092d02-5ce6-4d2a-939c-b29fde7679ea",
   "metadata": {},
   "source": [
    "### Анализ отдельных признаков"
   ]
  },
  {
   "cell_type": "markdown",
   "id": "84238506-49fd-4eac-aea2-e3dffd3a0181",
   "metadata": {},
   "source": [
    "Посмотрим распределение целевой переменной"
   ]
  },
  {
   "cell_type": "code",
   "execution_count": 10,
   "id": "c53266a2-a44f-4bbd-834a-c0430ffd934b",
   "metadata": {},
   "outputs": [
    {
     "data": {
      "text/plain": [
       "<AxesSubplot:xlabel='target', ylabel='count'>"
      ]
     },
     "execution_count": 10,
     "metadata": {},
     "output_type": "execute_result"
    },
    {
     "data": {
      "image/png": "[encoded data removed]",
      "text/plain": [
       "<Figure size 432x288 with 1 Axes>"
      ]
     },
     "metadata": {
      "needs_background": "light"
     },
     "output_type": "display_data"
    }
   ],
   "source": [
    "sns.countplot(df.target)"
   ]
  },
  {
   "cell_type": "code",
   "execution_count": 11,
   "id": "e124cb59-9dbe-4b5e-b54d-5933daa72746",
   "metadata": {},
   "outputs": [
    {
     "data": {
      "text/plain": [
       "id    2.005427\n",
       "dtype: float64"
      ]
     },
     "execution_count": 11,
     "metadata": {},
     "output_type": "execute_result"
    }
   ],
   "source": [
    "df[['id', 'target']].groupby('target').count().iloc[1] / df[['id', 'target']].groupby('target').count().iloc[0] * 100"
   ]
  },
  {
   "cell_type": "markdown",
   "id": "b1667dc0-cee5-40da-a852-35fde07576be",
   "metadata": {},
   "source": [
    "**В распределении целевой переменной присутствует существенный дисбаланс: доля целевого класса составляет 2%**"
   ]
  },
  {
   "cell_type": "markdown",
   "id": "4fc9c7e3-08c1-42eb-910c-2761d340055c",
   "metadata": {},
   "source": [
    "Проанализируем распределение по нескольким атрибутом"
   ]
  },
  {
   "cell_type": "code",
   "execution_count": 12,
   "id": "ffa39072-95d8-4516-adbd-c205b477551a",
   "metadata": {},
   "outputs": [
    {
     "data": {
      "text/plain": [
       "<AxesSubplot:xlabel='c_0', ylabel='count'>"
      ]
     },
     "execution_count": 12,
     "metadata": {},
     "output_type": "execute_result"
    },
    {
     "data": {
      "image/png": "[encoded data removed]",
      "text/plain": [
       "<Figure size 432x288 with 1 Axes>"
      ]
     },
     "metadata": {
      "needs_background": "light"
     },
     "output_type": "display_data"
    }
   ],
   "source": [
    "# построим график распределения для атрибута 'c_0'\n",
    "sns.countplot(x='c_0', data=df.loc[df.c_0 < 2])"
   ]
  },
  {
   "cell_type": "code",
   "execution_count": 13,
   "id": "ab0ee167-2afe-42ba-bcd2-faa71f572fc2",
   "metadata": {},
   "outputs": [
    {
     "name": "stdout",
     "output_type": "stream",
     "text": [
      "c_0 mean -  0.3041847970032919\n",
      "c_0 median -  0.3041847970032919\n"
     ]
    }
   ],
   "source": [
    "print('c_0 mean - ', df.c_0.mean())\n",
    "print('c_0 median - ', df.c_0.median())"
   ]
  },
  {
   "cell_type": "code",
   "execution_count": 14,
   "id": "f62c9324-8c0b-46c0-b7f5-b8b0c9e87b17",
   "metadata": {},
   "outputs": [
    {
     "data": {
      "text/plain": [
       "<AxesSubplot:xlabel='target', ylabel='c_0'>"
      ]
     },
     "execution_count": 14,
     "metadata": {},
     "output_type": "execute_result"
    },
    {
     "data": {
      "image/png": "[encoded data removed]",
      "text/plain": [
       "<Figure size 432x288 with 1 Axes>"
      ]
     },
     "metadata": {
      "needs_background": "light"
     },
     "output_type": "display_data"
    }
   ],
   "source": [
    "# проанализируем распределение переменной c_0 в зависимости от target\n",
    "sns.boxplot(x=\"target\", y=\"c_0\", data=df.loc[df.c_0 < 2])"
   ]
  },
  {
   "cell_type": "markdown",
   "id": "6896752a-d492-4869-855d-018f27a23526",
   "metadata": {},
   "source": [
    "График показывает, что распределенние значений признака существенно варьируется для целевых классов. То есть данный признак может быть значимым для построения классификационной модели"
   ]
  },
  {
   "cell_type": "markdown",
   "id": "d0661609-6c6b-40c5-97b8-a6d77a02c697",
   "metadata": {},
   "source": [
    "Проведем аналогичный анализ для атрибута c_1"
   ]
  },
  {
   "cell_type": "code",
   "execution_count": 15,
   "id": "6da2453b-75b5-4037-a205-2a490876bbf9",
   "metadata": {},
   "outputs": [
    {
     "data": {
      "text/plain": [
       "<AxesSubplot:xlabel='target', ylabel='c_1'>"
      ]
     },
     "execution_count": 15,
     "metadata": {},
     "output_type": "execute_result"
    },
    {
     "data": {
      "image/png": "[encoded data removed]",
      "text/plain": [
       "<Figure size 432x288 with 1 Axes>"
      ]
     },
     "metadata": {
      "needs_background": "light"
     },
     "output_type": "display_data"
    }
   ],
   "source": [
    "sns.boxplot(x=\"target\", y=\"c_1\", data=df.loc[df.c_1 < 2000])"
   ]
  },
  {
   "cell_type": "markdown",
   "id": "a2f99212-4608-468b-acb1-dd628255b11c",
   "metadata": {},
   "source": [
    "Для текстовых атрибутов, на примере распределения значений атрибута \"с_4\" с группировкой по значениям атрибута \"с_54\""
   ]
  },
  {
   "cell_type": "code",
   "execution_count": 16,
   "id": "2718faef-2c20-4afe-987d-7a7bf3c38787",
   "metadata": {},
   "outputs": [
    {
     "data": {
      "text/plain": [
       "<AxesSubplot:xlabel='c_54', ylabel='c_4'>"
      ]
     },
     "execution_count": 16,
     "metadata": {},
     "output_type": "execute_result"
    },
    {
     "data": {
      "image/png": "[encoded data removed]",
      "text/plain": [
       "<Figure size 432x288 with 1 Axes>"
      ]
     },
     "metadata": {
      "needs_background": "light"
     },
     "output_type": "display_data"
    }
   ],
   "source": [
    "sns.boxplot(x=\"c_54\", y=\"c_4\", hue='target', data=df)"
   ]
  },
  {
   "cell_type": "markdown",
   "id": "cfadced7-700d-40cd-9d47-2190f83d8c3c",
   "metadata": {},
   "source": [
    "**Беглый анализ нескольких атрибутов в данных позволяет сделать предварительные выводы, о том что в признаках имеется положительный сигнал, позволяющий разделить объекты целевых классов. В рамках более детальной проработки задачи целесообразно провести ряд статистических тестов для оценки отличия в распределении значений целевых переменных**"
   ]
  },
  {
   "cell_type": "code",
   "execution_count": 17,
   "id": "d9f79849-9b12-431f-8329-738b25b3fe68",
   "metadata": {},
   "outputs": [],
   "source": [
    "corr = df.corr()"
   ]
  },
  {
   "cell_type": "code",
   "execution_count": 18,
   "id": "f79dc45c-ab51-4161-a1f1-585ccc3a1d1a",
   "metadata": {},
   "outputs": [
    {
     "data": {
      "text/plain": [
       "<AxesSubplot:>"
      ]
     },
     "execution_count": 18,
     "metadata": {},
     "output_type": "execute_result"
    },
    {
     "data": {
      "image/png": "[encoded data removed]",
      "text/plain": [
       "<Figure size 432x288 with 2 Axes>"
      ]
     },
     "metadata": {
      "needs_background": "light"
     },
     "output_type": "display_data"
    }
   ],
   "source": [
    "sns.heatmap(corr, \n",
    "        xticklabels=corr.columns,\n",
    "        yticklabels=corr.columns)"
   ]
  },
  {
   "cell_type": "code",
   "execution_count": 19,
   "id": "7ea0d85e-5a19-409e-8504-970652ee24a6",
   "metadata": {},
   "outputs": [],
   "source": [
    "s = corr.unstack()\n",
    "so = s.sort_values(kind=\"quicksort\")"
   ]
  },
  {
   "cell_type": "code",
   "execution_count": 20,
   "id": "e2c1b51e-7da8-4358-93e3-a3c4714e48eb",
   "metadata": {},
   "outputs": [
    {
     "data": {
      "text/plain": [
       "4489"
      ]
     },
     "execution_count": 20,
     "metadata": {},
     "output_type": "execute_result"
    }
   ],
   "source": [
    "len(so)"
   ]
  },
  {
   "cell_type": "code",
   "execution_count": 21,
   "id": "745851a7-7e29-4638-ae57-95c767884f8f",
   "metadata": {},
   "outputs": [
    {
     "data": {
      "text/plain": [
       "c_19  c_18    0.801301\n",
       "c_18  c_19    0.801301\n",
       "c_1   c_4     0.818778\n",
       "c_4   c_1     0.818778\n",
       "c_30  c_6     0.879185\n",
       "c_6   c_30    0.879185\n",
       "c_33  c_13    0.880329\n",
       "c_13  c_33    0.880329\n",
       "c_31  c_36    0.884105\n",
       "c_36  c_31    0.884105\n",
       "c_14  c_36    0.889003\n",
       "c_36  c_14    0.889003\n",
       "c_50  c_33    0.892773\n",
       "c_33  c_50    0.892773\n",
       "c_40  c_38    0.910830\n",
       "c_38  c_40    0.910830\n",
       "c_66  c_49    0.950643\n",
       "c_49  c_66    0.950643\n",
       "c_37  c_11    0.965762\n",
       "c_11  c_37    0.965762\n",
       "dtype: float64"
      ]
     },
     "execution_count": 21,
     "metadata": {},
     "output_type": "execute_result"
    }
   ],
   "source": [
    "so[4400:4420]"
   ]
  },
  {
   "cell_type": "markdown",
   "id": "bc6478e0-3adc-4810-984b-4b42c6a5e468",
   "metadata": {},
   "source": [
    "В датасете присутствуют определенные пары атрибутов, характеризующиеся высокой степенью корреляции. Потенциально данные часть скоррелированных признаков можно убрать для датасета  \n",
    "В случае применения линейных моделей необходимо убрать коллинеарные признаки, для моделей на основе решающих деревьев данная процедура также является желательной - позволит сократить время на построение оптимальной модели и инференс модели при эксплуатации."
   ]
  },
  {
   "cell_type": "markdown",
   "id": "6147414f-1565-4590-844e-8ec9768daaa4",
   "metadata": {},
   "source": [
    "# Построение модели"
   ]
  },
  {
   "cell_type": "markdown",
   "id": "f789734d-b2f5-49be-80e6-bd242db0f47e",
   "metadata": {},
   "source": [
    "#### Для построения классификационной модели будут использованы следующие решения:\n",
    "1. Классификатор LightGBM (градиентный бустинг)\n",
    "2. Классификатор LightGBM + Focal Loss (предложенный в заданий)\n",
    "3. Построение модели классификации с использованием глубоких нейронных сетей (TabNet)"
   ]
  },
  {
   "cell_type": "markdown",
   "id": "104686f7-26db-47e0-af3f-d378ea55e6fa",
   "metadata": {},
   "source": [
    "# LightGBM with LogLoss and Focal Loss"
   ]
  },
  {
   "cell_type": "code",
   "execution_count": 22,
   "id": "b1c2dad7-3aae-4112-833c-f2a0ff081077",
   "metadata": {},
   "outputs": [],
   "source": [
    "import lightgbm as lgb\n",
    "import numpy as np\n",
    "from scipy import optimize\n",
    "from scipy import special\n",
    "from sklearn.model_selection import GridSearchCV, train_test_split\n",
    "from sklearn import metrics\n",
    "from sklearn.preprocessing import LabelEncoder"
   ]
  },
  {
   "cell_type": "code",
   "execution_count": 23,
   "id": "1c82a821-3d1d-401b-a4cb-e9c87910e8d4",
   "metadata": {},
   "outputs": [
    {
     "name": "stdout",
     "output_type": "stream",
     "text": [
      "c_16 2330\n",
      "c_41 7\n",
      "c_54 3\n",
      "c_67 97\n"
     ]
    }
   ],
   "source": [
    "categorical_columns = []\n",
    "categorical_dims =  {}\n",
    "data = df.iloc[:, 2:]\n",
    "target = df.target\n",
    "for col in data.columns[data.dtypes == 'string']:\n",
    "    print(col, data[col].nunique())\n",
    "    l_enc = LabelEncoder()\n",
    "    data[col] = l_enc.fit_transform(data[col].values)\n",
    "    categorical_columns.append(col)\n",
    "    categorical_dims[col] = len(l_enc.classes_)"
   ]
  },
  {
   "cell_type": "code",
   "execution_count": 24,
   "id": "5f819bd1-514d-48c9-adf8-5e4d9532ca51",
   "metadata": {},
   "outputs": [],
   "source": [
    "X_train, X_test, y_train, y_test = train_test_split(\n",
    "    data, target,\n",
    "    random_state=42\n",
    ")\n",
    "X_fit, X_val, y_fit, y_val = train_test_split(\n",
    "    X_train, y_train,\n",
    "    random_state=42\n",
    ")"
   ]
  },
  {
   "cell_type": "code",
   "execution_count": 25,
   "id": "99a8f3df-ffdb-482f-8ac3-bc6e154c7777",
   "metadata": {},
   "outputs": [],
   "source": [
    "fit_params={\"early_stopping_rounds\":10, \n",
    "            \"eval_metric\" : 'auc',\n",
    "            'verbose': -1,\n",
    "            'feature_name': 'auto', # that's actually the default\n",
    "            'categorical_feature': 'auto' # that's actually the default\n",
    "           }"
   ]
  },
  {
   "cell_type": "code",
   "execution_count": 26,
   "id": "bc17bb29-2b1d-4998-8dac-3b7f4435af61",
   "metadata": {},
   "outputs": [],
   "source": [
    "clf = lgb.LGBMClassifier(num_leaves= 15, max_depth=5, \n",
    "                         verbose=0, \n",
    "                         metric='AUC', \n",
    "                         n_jobs=4, \n",
    "                         n_estimators=1000,\n",
    "                         colsample_bytree=0.9,\n",
    "                         subsample=0.9,\n",
    "                         learning_rate=0.1)"
   ]
  },
  {
   "cell_type": "code",
   "execution_count": 27,
   "id": "85cb02ae-949e-47ac-88b7-71f314c74dbc",
   "metadata": {},
   "outputs": [],
   "source": [
    "params = {'n_estimators': [500],\n",
    "         'num_leaves': [3, 5],\n",
    "          'max_depth': [3, 5],\n",
    "         }"
   ]
  },
  {
   "cell_type": "code",
   "execution_count": 28,
   "id": "8adca8b0-e525-489a-925e-2b40e76ac11c",
   "metadata": {},
   "outputs": [],
   "source": [
    "grid = GridSearchCV(clf, params)"
   ]
  },
  {
   "cell_type": "code",
   "execution_count": 29,
   "id": "3dc7bd52-fbc5-4646-9473-a5ff1492d663",
   "metadata": {},
   "outputs": [
    {
     "name": "stdout",
     "output_type": "stream",
     "text": [
      "[LightGBM] [Warning] Auto-choosing col-wise multi-threading, the overhead of testing was 0.076979 seconds.\n",
      "You can set `force_col_wise=true` to remove the overhead.\n",
      "[LightGBM] [Warning] Auto-choosing col-wise multi-threading, the overhead of testing was 0.060639 seconds.\n",
      "You can set `force_col_wise=true` to remove the overhead.\n",
      "[LightGBM] [Warning] Auto-choosing col-wise multi-threading, the overhead of testing was 0.061844 seconds.\n",
      "You can set `force_col_wise=true` to remove the overhead.\n",
      "[LightGBM] [Warning] Auto-choosing col-wise multi-threading, the overhead of testing was 0.052276 seconds.\n",
      "You can set `force_col_wise=true` to remove the overhead.\n",
      "[LightGBM] [Warning] Auto-choosing col-wise multi-threading, the overhead of testing was 0.064143 seconds.\n",
      "You can set `force_col_wise=true` to remove the overhead.\n",
      "[LightGBM] [Warning] Auto-choosing col-wise multi-threading, the overhead of testing was 0.057011 seconds.\n",
      "You can set `force_col_wise=true` to remove the overhead.\n",
      "[LightGBM] [Warning] Auto-choosing col-wise multi-threading, the overhead of testing was 0.065306 seconds.\n",
      "You can set `force_col_wise=true` to remove the overhead.\n",
      "[LightGBM] [Warning] Auto-choosing col-wise multi-threading, the overhead of testing was 0.053105 seconds.\n",
      "You can set `force_col_wise=true` to remove the overhead.\n",
      "[LightGBM] [Warning] Auto-choosing col-wise multi-threading, the overhead of testing was 0.062293 seconds.\n",
      "You can set `force_col_wise=true` to remove the overhead.\n",
      "[LightGBM] [Warning] Auto-choosing col-wise multi-threading, the overhead of testing was 0.070266 seconds.\n",
      "You can set `force_col_wise=true` to remove the overhead.\n",
      "[LightGBM] [Warning] Auto-choosing col-wise multi-threading, the overhead of testing was 0.061494 seconds.\n",
      "You can set `force_col_wise=true` to remove the overhead.\n",
      "[LightGBM] [Warning] Auto-choosing col-wise multi-threading, the overhead of testing was 0.059239 seconds.\n",
      "You can set `force_col_wise=true` to remove the overhead.\n",
      "[LightGBM] [Warning] Auto-choosing col-wise multi-threading, the overhead of testing was 0.052999 seconds.\n",
      "You can set `force_col_wise=true` to remove the overhead.\n",
      "[LightGBM] [Warning] Auto-choosing col-wise multi-threading, the overhead of testing was 0.060253 seconds.\n",
      "You can set `force_col_wise=true` to remove the overhead.\n",
      "[LightGBM] [Warning] Auto-choosing col-wise multi-threading, the overhead of testing was 0.069697 seconds.\n",
      "You can set `force_col_wise=true` to remove the overhead.\n",
      "[LightGBM] [Warning] Auto-choosing col-wise multi-threading, the overhead of testing was 0.062127 seconds.\n",
      "You can set `force_col_wise=true` to remove the overhead.\n",
      "[LightGBM] [Warning] Auto-choosing col-wise multi-threading, the overhead of testing was 0.053179 seconds.\n",
      "You can set `force_col_wise=true` to remove the overhead.\n",
      "[LightGBM] [Warning] Auto-choosing col-wise multi-threading, the overhead of testing was 0.054107 seconds.\n",
      "You can set `force_col_wise=true` to remove the overhead.\n",
      "[LightGBM] [Warning] Auto-choosing col-wise multi-threading, the overhead of testing was 0.071250 seconds.\n",
      "You can set `force_col_wise=true` to remove the overhead.\n",
      "[LightGBM] [Warning] Auto-choosing col-wise multi-threading, the overhead of testing was 0.055371 seconds.\n",
      "You can set `force_col_wise=true` to remove the overhead.\n",
      "[LightGBM] [Warning] Auto-choosing col-wise multi-threading, the overhead of testing was 0.076495 seconds.\n",
      "You can set `force_col_wise=true` to remove the overhead.\n"
     ]
    },
    {
     "data": {
      "text/html": [
       "<style>#sk-container-id-1 {color: black;background-color: white;}#sk-container-id-1 pre{padding: 0;}#sk-container-id-1 div.sk-toggleable {background-color: white;}#sk-container-id-1 label.sk-toggleable__label {cursor: pointer;display: block;width: 100%;margin-bottom: 0;padding: 0.3em;box-sizing: border-box;text-align: center;}#sk-container-id-1 label.sk-toggleable__label-arrow:before {content: \"▸\";float: left;margin-right: 0.25em;color: #696969;}#sk-container-id-1 label.sk-toggleable__label-arrow:hover:before {color: black;}#sk-container-id-1 div.sk-estimator:hover label.sk-toggleable__label-arrow:before {color: black;}#sk-container-id-1 div.sk-toggleable__content {max-height: 0;max-width: 0;overflow: hidden;text-align: left;background-color: #f0f8ff;}#sk-container-id-1 div.sk-toggleable__content pre {margin: 0.2em;color: black;border-radius: 0.25em;background-color: #f0f8ff;}#sk-container-id-1 input.sk-toggleable__control:checked~div.sk-toggleable__content {max-height: 200px;max-width: 100%;overflow: auto;}#sk-container-id-1 input.sk-toggleable__control:checked~label.sk-toggleable__label-arrow:before {content: \"▾\";}#sk-container-id-1 div.sk-estimator input.sk-toggleable__control:checked~label.sk-toggleable__label {background-color: #d4ebff;}#sk-container-id-1 div.sk-label input.sk-toggleable__control:checked~label.sk-toggleable__label {background-color: #d4ebff;}#sk-container-id-1 input.sk-hidden--visually {border: 0;clip: rect(1px 1px 1px 1px);clip: rect(1px, 1px, 1px, 1px);height: 1px;margin: -1px;overflow: hidden;padding: 0;position: absolute;width: 1px;}#sk-container-id-1 div.sk-estimator {font-family: monospace;background-color: #f0f8ff;border: 1px dotted black;border-radius: 0.25em;box-sizing: border-box;margin-bottom: 0.5em;}#sk-container-id-1 div.sk-estimator:hover {background-color: #d4ebff;}#sk-container-id-1 div.sk-parallel-item::after {content: \"\";width: 100%;border-bottom: 1px solid gray;flex-grow: 1;}#sk-container-id-1 div.sk-label:hover label.sk-toggleable__label {background-color: #d4ebff;}#sk-container-id-1 div.sk-serial::before {content: \"\";position: absolute;border-left: 1px solid gray;box-sizing: border-box;top: 0;bottom: 0;left: 50%;z-index: 0;}#sk-container-id-1 div.sk-serial {display: flex;flex-direction: column;align-items: center;background-color: white;padding-right: 0.2em;padding-left: 0.2em;position: relative;}#sk-container-id-1 div.sk-item {position: relative;z-index: 1;}#sk-container-id-1 div.sk-parallel {display: flex;align-items: stretch;justify-content: center;background-color: white;position: relative;}#sk-container-id-1 div.sk-item::before, #sk-container-id-1 div.sk-parallel-item::before {content: \"\";position: absolute;border-left: 1px solid gray;box-sizing: border-box;top: 0;bottom: 0;left: 50%;z-index: -1;}#sk-container-id-1 div.sk-parallel-item {display: flex;flex-direction: column;z-index: 1;position: relative;background-color: white;}#sk-container-id-1 div.sk-parallel-item:first-child::after {align-self: flex-end;width: 50%;}#sk-container-id-1 div.sk-parallel-item:last-child::after {align-self: flex-start;width: 50%;}#sk-container-id-1 div.sk-parallel-item:only-child::after {width: 0;}#sk-container-id-1 div.sk-dashed-wrapped {border: 1px dashed gray;margin: 0 0.4em 0.5em 0.4em;box-sizing: border-box;padding-bottom: 0.4em;background-color: white;}#sk-container-id-1 div.sk-label label {font-family: monospace;font-weight: bold;display: inline-block;line-height: 1.2em;}#sk-container-id-1 div.sk-label-container {text-align: center;}#sk-container-id-1 div.sk-container {/* jupyter's `normalize.less` sets `[hidden] { display: none; }` but bootstrap.min.css set `[hidden] { display: none !important; }` so we also need the `!important` here to be able to override the default hidden behavior on the sphinx rendered scikit-learn.org. See: https://github.com/scikit-learn/scikit-learn/issues/21755 */display: inline-block !important;position: relative;}#sk-container-id-1 div.sk-text-repr-fallback {display: none;}</style><div id=\"sk-container-id-1\" class=\"sk-top-container\"><div class=\"sk-text-repr-fallback\"><pre>GridSearchCV(estimator=LGBMClassifier(colsample_bytree=0.9, max_depth=5,\n",
       "                                      metric=&#x27;AUC&#x27;, n_estimators=1000, n_jobs=4,\n",
       "                                      num_leaves=15, subsample=0.9, verbose=0),\n",
       "             param_grid={&#x27;max_depth&#x27;: [3, 5], &#x27;n_estimators&#x27;: [500],\n",
       "                         &#x27;num_leaves&#x27;: [3, 5]})</pre><b>In a Jupyter environment, please rerun this cell to show the HTML representation or trust the notebook. <br />On GitHub, the HTML representation is unable to render, please try loading this page with nbviewer.org.</b></div><div class=\"sk-container\" hidden><div class=\"sk-item sk-dashed-wrapped\"><div class=\"sk-label-container\"><div class=\"sk-label sk-toggleable\"><input class=\"sk-toggleable__control sk-hidden--visually\" id=\"sk-estimator-id-1\" type=\"checkbox\" ><label for=\"sk-estimator-id-1\" class=\"sk-toggleable__label sk-toggleable__label-arrow\">GridSearchCV</label><div class=\"sk-toggleable__content\"><pre>GridSearchCV(estimator=LGBMClassifier(colsample_bytree=0.9, max_depth=5,\n",
       "                                      metric=&#x27;AUC&#x27;, n_estimators=1000, n_jobs=4,\n",
       "                                      num_leaves=15, subsample=0.9, verbose=0),\n",
       "             param_grid={&#x27;max_depth&#x27;: [3, 5], &#x27;n_estimators&#x27;: [500],\n",
       "                         &#x27;num_leaves&#x27;: [3, 5]})</pre></div></div></div><div class=\"sk-parallel\"><div class=\"sk-parallel-item\"><div class=\"sk-item\"><div class=\"sk-label-container\"><div class=\"sk-label sk-toggleable\"><input class=\"sk-toggleable__control sk-hidden--visually\" id=\"sk-estimator-id-2\" type=\"checkbox\" ><label for=\"sk-estimator-id-2\" class=\"sk-toggleable__label sk-toggleable__label-arrow\">estimator: LGBMClassifier</label><div class=\"sk-toggleable__content\"><pre>LGBMClassifier(colsample_bytree=0.9, max_depth=5, metric=&#x27;AUC&#x27;,\n",
       "               n_estimators=1000, n_jobs=4, num_leaves=15, subsample=0.9,\n",
       "               verbose=0)</pre></div></div></div><div class=\"sk-serial\"><div class=\"sk-item\"><div class=\"sk-estimator sk-toggleable\"><input class=\"sk-toggleable__control sk-hidden--visually\" id=\"sk-estimator-id-3\" type=\"checkbox\" ><label for=\"sk-estimator-id-3\" class=\"sk-toggleable__label sk-toggleable__label-arrow\">LGBMClassifier</label><div class=\"sk-toggleable__content\"><pre>LGBMClassifier(colsample_bytree=0.9, max_depth=5, metric=&#x27;AUC&#x27;,\n",
       "               n_estimators=1000, n_jobs=4, num_leaves=15, subsample=0.9,\n",
       "               verbose=0)</pre></div></div></div></div></div></div></div></div></div></div>"
      ],
      "text/plain": [
       "GridSearchCV(estimator=LGBMClassifier(colsample_bytree=0.9, max_depth=5,\n",
       "                                      metric='AUC', n_estimators=1000, n_jobs=4,\n",
       "                                      num_leaves=15, subsample=0.9, verbose=0),\n",
       "             param_grid={'max_depth': [3, 5], 'n_estimators': [500],\n",
       "                         'num_leaves': [3, 5]})"
      ]
     },
     "execution_count": 29,
     "metadata": {},
     "output_type": "execute_result"
    }
   ],
   "source": [
    "grid.fit(data, target)"
   ]
  },
  {
   "cell_type": "code",
   "execution_count": 30,
   "id": "f2298a99-1a14-45ba-9c72-5b37a496d56c",
   "metadata": {},
   "outputs": [
    {
     "data": {
      "text/plain": [
       "0.8767833333333334"
      ]
     },
     "execution_count": 30,
     "metadata": {},
     "output_type": "execute_result"
    }
   ],
   "source": [
    "grid.best_score_"
   ]
  },
  {
   "cell_type": "code",
   "execution_count": 31,
   "id": "7f431d9d-1459-49f3-b1cc-7cd8504b5a3c",
   "metadata": {},
   "outputs": [
    {
     "data": {
      "text/plain": [
       "{'max_depth': 3, 'n_estimators': 500, 'num_leaves': 3}"
      ]
     },
     "execution_count": 31,
     "metadata": {},
     "output_type": "execute_result"
    }
   ],
   "source": [
    "grid.best_params_"
   ]
  },
  {
   "cell_type": "markdown",
   "id": "0ebfee09-f83f-43dc-a8ea-0908c5b9031a",
   "metadata": {},
   "source": [
    "Проведем эксперимент, описанный в статье с использованием функции потерь FocalLoss"
   ]
  },
  {
   "cell_type": "code",
   "execution_count": 32,
   "id": "505ff1c5-9013-424f-9d74-b598b3d6bb27",
   "metadata": {},
   "outputs": [],
   "source": [
    "class FocalLoss:\n",
    "\n",
    "    def __init__(self, gamma, alpha=None):\n",
    "        self.alpha = alpha\n",
    "        self.gamma = gamma\n",
    "\n",
    "    def at(self, y):\n",
    "        if self.alpha is None:\n",
    "            return np.ones_like(y)\n",
    "        return np.where(y, self.alpha, 1 - self.alpha)\n",
    "\n",
    "    def pt(self, y, p):\n",
    "        p = np.clip(p, 1e-15, 1 - 1e-15)\n",
    "        return np.where(y, p, 1 - p)\n",
    "\n",
    "    def __call__(self, y_true, y_pred):\n",
    "        at = self.at(y_true)\n",
    "        pt = self.pt(y_true, y_pred)\n",
    "        return -at * (1 - pt) ** self.gamma * np.log(pt)\n",
    "\n",
    "    def grad(self, y_true, y_pred):\n",
    "        y = 2 * y_true - 1  # {0, 1} -> {-1, 1}\n",
    "        at = self.at(y_true)\n",
    "        pt = self.pt(y_true, y_pred)\n",
    "        g = self.gamma\n",
    "        return at * y * (1 - pt) ** g * (g * pt * np.log(pt) + pt - 1)\n",
    "\n",
    "    def hess(self, y_true, y_pred):\n",
    "        y = 2 * y_true - 1  # {0, 1} -> {-1, 1}\n",
    "        at = self.at(y_true)\n",
    "        pt = self.pt(y_true, y_pred)\n",
    "        g = self.gamma\n",
    "\n",
    "        u = at * y * (1 - pt) ** g\n",
    "        du = -at * y * g * (1 - pt) ** (g - 1)\n",
    "        v = g * pt * np.log(pt) + pt - 1\n",
    "        dv = g * np.log(pt) + g + 1\n",
    "\n",
    "        return (du * v + u * dv) * y * (pt * (1 - pt))\n",
    "\n",
    "    def init_score(self, y_true):\n",
    "        res = optimize.minimize_scalar(\n",
    "            lambda p: self(y_true, p).sum(),\n",
    "            bounds=(0, 1),\n",
    "            method='bounded'\n",
    "        )\n",
    "        p = res.x\n",
    "        log_odds = np.log(p / (1 - p))\n",
    "        return log_odds\n",
    "\n",
    "    def lgb_obj(self, preds, train_data):\n",
    "        y = train_data.get_label()\n",
    "        p = special.expit(preds)\n",
    "        return self.grad(y, p), self.hess(y, p)\n",
    "\n",
    "    def lgb_eval(self, preds, train_data):\n",
    "        y = train_data.get_label()\n",
    "        p = special.expit(preds)\n",
    "        is_higher_better = False\n",
    "        return 'focal_loss', self(y, p).mean(), is_higher_better"
   ]
  },
  {
   "cell_type": "code",
   "execution_count": 33,
   "id": "5917c8d3-6616-49b5-bfa5-18c904e4914c",
   "metadata": {},
   "outputs": [],
   "source": [
    "fl = FocalLoss(alpha=None, gamma=0)"
   ]
  },
  {
   "cell_type": "code",
   "execution_count": 34,
   "id": "5ac20ef9-8a4e-45ff-8976-4f09c7ce07f9",
   "metadata": {},
   "outputs": [],
   "source": [
    "fit = lgb.Dataset(\n",
    "    X_fit, y_fit,\n",
    "    init_score=np.full_like(y_fit, fl.init_score(y_fit), dtype=float)\n",
    ")\n",
    "\n",
    "val = lgb.Dataset(\n",
    "    X_val, y_val,\n",
    "    init_score=np.full_like(y_val, fl.init_score(y_fit), dtype=float),\n",
    "    reference=fit\n",
    ")"
   ]
  },
  {
   "cell_type": "code",
   "execution_count": 35,
   "id": "de10989e-152a-4127-9e66-a369b9e95db0",
   "metadata": {},
   "outputs": [
    {
     "name": "stdout",
     "output_type": "stream",
     "text": [
      "[LightGBM] [Warning] Using self-defined objective function\n",
      "[LightGBM] [Warning] Auto-choosing col-wise multi-threading, the overhead of testing was 0.059322 seconds.\n",
      "You can set `force_col_wise=true` to remove the overhead.\n",
      "[LightGBM] [Info] Total Bins 13578\n",
      "[LightGBM] [Info] Number of data points in the train set: 168750, number of used features: 69\n",
      "[LightGBM] [Warning] Using self-defined objective function\n",
      "Training until validation scores don't improve for 20 rounds\n",
      "[100]\tfit's focal_loss: 0.0710532\tval's focal_loss: 0.074728\n",
      "[200]\tfit's focal_loss: 0.0648064\tval's focal_loss: 0.0710355\n",
      "[300]\tfit's focal_loss: 0.0609738\tval's focal_loss: 0.0697239\n",
      "[400]\tfit's focal_loss: 0.0580466\tval's focal_loss: 0.0691809\n",
      "[500]\tfit's focal_loss: 0.0553923\tval's focal_loss: 0.0689491\n",
      "[600]\tfit's focal_loss: 0.0532079\tval's focal_loss: 0.0688221\n",
      "Early stopping, best iteration is:\n",
      "[658]\tfit's focal_loss: 0.0521113\tval's focal_loss: 0.0688002\n"
     ]
    }
   ],
   "source": [
    "model = lgb.train(\n",
    "    params={'learning_rate': 0.01},\n",
    "    train_set=fit,\n",
    "    num_boost_round=10000,\n",
    "    valid_sets=(fit, val),\n",
    "    valid_names=('fit', 'val'),\n",
    "    early_stopping_rounds=20,\n",
    "    verbose_eval=100,\n",
    "    fobj=fl.lgb_obj,\n",
    "    feval=fl.lgb_eval\n",
    ")"
   ]
  },
  {
   "cell_type": "code",
   "execution_count": 36,
   "id": "8bc2b2eb-bc82-427a-8113-a47f2ffe5990",
   "metadata": {},
   "outputs": [],
   "source": [
    "y_pred = special.expit(model.predict(X_test))"
   ]
  },
  {
   "cell_type": "code",
   "execution_count": 37,
   "id": "f0499edc-a08e-4fd0-8ffa-a50b5be9ce18",
   "metadata": {},
   "outputs": [
    {
     "name": "stdout",
     "output_type": "stream",
     "text": [
      "\n",
      "Test's ROC AUC: 0.88146\n"
     ]
    }
   ],
   "source": [
    "print()\n",
    "print(f\"Test's ROC AUC: {metrics.roc_auc_score(y_test, y_pred):.5f}\")"
   ]
  },
  {
   "cell_type": "markdown",
   "id": "939eafc3-fb28-4a6e-a48d-6fa63ef76522",
   "metadata": {},
   "source": [
    "**Результаты проведенного эксперимента показывают, что с исзменением функции потерь с LogLoss на FocalLoss удается добиться повышения метрики качества ROC-AUC с 0.8768 до 0.88146**"
   ]
  },
  {
   "cell_type": "code",
   "execution_count": 38,
   "id": "81b6b619-5e56-4a90-aba3-4fe830216d6b",
   "metadata": {},
   "outputs": [
    {
     "data": {
      "text/plain": [
       "<lightgbm.basic.Booster at 0x2c3431e96f0>"
      ]
     },
     "execution_count": 38,
     "metadata": {},
     "output_type": "execute_result"
    }
   ],
   "source": [
    "model.save_model(\"model.txt\")"
   ]
  },
  {
   "cell_type": "code",
   "execution_count": 39,
   "id": "f9eb6664-e220-40d3-a9d6-d887e620178c",
   "metadata": {},
   "outputs": [],
   "source": [
    "data.to_csv(\"train_processed.csv\")"
   ]
  },
  {
   "cell_type": "markdown",
   "id": "67d4363b-5767-4b0c-96a6-beea09e453dd",
   "metadata": {},
   "source": [
    "# Tabnet classifier"
   ]
  },
  {
   "cell_type": "markdown",
   "id": "685237b3-5dfc-4520-992a-fd42e64e12d8",
   "metadata": {},
   "source": [
    "Проведем эксперимент с использованием классификатора на базе глубокой нейронной сети (архитектура TabNet), архитектура сети описана в статье https://arxiv.org/abs/1908.07442"
   ]
  },
  {
   "cell_type": "code",
   "execution_count": 40,
   "id": "925ff630-9ea4-4128-8340-ddd0c4a5ee37",
   "metadata": {},
   "outputs": [],
   "source": [
    "from pytorch_tabnet.tab_model import TabNetClassifier\n",
    "import torch\n",
    "from sklearn.model_selection import train_test_split"
   ]
  },
  {
   "cell_type": "code",
   "execution_count": 41,
   "id": "9476921f-ab97-405e-861f-dab2196cdac2",
   "metadata": {},
   "outputs": [],
   "source": [
    "features = [ col for col in data.columns]\n",
    "\n",
    "cat_idxs = [ i for i, f in enumerate(features) if f in categorical_columns]\n",
    "\n",
    "cat_dims = [ categorical_dims[f] for i, f in enumerate(features) if f in categorical_columns]"
   ]
  },
  {
   "cell_type": "code",
   "execution_count": 42,
   "id": "76daf040-1887-495d-9d84-f7c4c2f5c439",
   "metadata": {},
   "outputs": [
    {
     "name": "stdout",
     "output_type": "stream",
     "text": [
      "Device used : cpu\n"
     ]
    }
   ],
   "source": [
    "clf = TabNetClassifier(\n",
    "    n_d=64, n_a=64, n_steps=10,\n",
    "    gamma=1.5, n_independent=2, n_shared=2,\n",
    "    cat_idxs=cat_idxs,\n",
    "    cat_dims=cat_dims,\n",
    "    cat_emb_dim=1,\n",
    "    lambda_sparse=1e-4, momentum=0.3, clip_value=2.,\n",
    "    optimizer_fn=torch.optim.Adam,\n",
    "    optimizer_params=dict(lr=2e-2),\n",
    "    scheduler_params = {\"gamma\": 0.95,\n",
    "                     \"step_size\": 20},\n",
    "    scheduler_fn=torch.optim.lr_scheduler.StepLR, epsilon=1e-15\n",
    ")"
   ]
  },
  {
   "cell_type": "code",
   "execution_count": 43,
   "id": "1ffc60ed-02ba-4645-b824-5feaf30e6af3",
   "metadata": {},
   "outputs": [],
   "source": [
    "train_val_indices, test_indices = train_test_split(\n",
    "    range(len(data)), test_size=0.2, random_state=0)\n",
    "train_indices, valid_indices = train_test_split(\n",
    "    train_val_indices, test_size=0.2 / 0.6, random_state=0)"
   ]
  },
  {
   "cell_type": "code",
   "execution_count": 44,
   "id": "21a111e4-3004-459a-968a-d7914eabfe47",
   "metadata": {},
   "outputs": [],
   "source": [
    "X_train = data[features].values[train_indices]\n",
    "y_train = target.values[train_indices]\n",
    "\n",
    "X_valid = data[features].values[valid_indices]\n",
    "y_valid = target.values[valid_indices]\n",
    "\n",
    "X_test = data[features].values[test_indices]\n",
    "y_test = target[target].values[test_indices]"
   ]
  },
  {
   "cell_type": "code",
   "execution_count": 45,
   "id": "3d5ec03d-12bc-4755-8f81-b1dcf38de266",
   "metadata": {},
   "outputs": [
    {
     "data": {
      "text/plain": [
       "(159999, 69)"
      ]
     },
     "execution_count": 45,
     "metadata": {},
     "output_type": "execute_result"
    }
   ],
   "source": [
    "X_train.shape"
   ]
  },
  {
   "cell_type": "code",
   "execution_count": 46,
   "id": "e758c063-f960-4ce5-b548-0469ffde7393",
   "metadata": {},
   "outputs": [
    {
     "data": {
      "text/plain": [
       "(80001, 69)"
      ]
     },
     "execution_count": 46,
     "metadata": {},
     "output_type": "execute_result"
    }
   ],
   "source": [
    "X_valid.shape"
   ]
  },
  {
   "cell_type": "code",
   "execution_count": 47,
   "id": "c83ad0fc-fde3-4a4d-9794-6cabcf49e8eb",
   "metadata": {},
   "outputs": [
    {
     "data": {
      "text/plain": [
       "(60000, 69)"
      ]
     },
     "execution_count": 47,
     "metadata": {},
     "output_type": "execute_result"
    }
   ],
   "source": [
    "X_test.shape"
   ]
  },
  {
   "cell_type": "code",
   "execution_count": 51,
   "id": "ed942aa6-27db-4a82-911a-267df66205bb",
   "metadata": {},
   "outputs": [
    {
     "name": "stdout",
     "output_type": "stream",
     "text": [
      "epoch 0  | loss: 0.09652 | train_auc: 0.74977 | valid_auc: 0.75263 |  0:01:43s\n",
      "epoch 1  | loss: 0.08731 | train_auc: 0.72264 | valid_auc: 0.7199  |  0:03:24s\n",
      "epoch 2  | loss: 0.08654 | train_auc: 0.76222 | valid_auc: 0.75869 |  0:05:04s\n",
      "epoch 3  | loss: 0.08429 | train_auc: 0.77886 | valid_auc: 0.77658 |  0:06:43s\n",
      "epoch 4  | loss: 0.08328 | train_auc: 0.78529 | valid_auc: 0.78605 |  0:08:23s\n",
      "Stop training because you reached max_epochs = 5 with best_epoch = 4 and best_valid_auc = 0.78605\n",
      "Best weights from best epoch are automatically used!\n"
     ]
    }
   ],
   "source": [
    "clf.fit(\n",
    "    X_train=X_train, y_train=y_train,\n",
    "    eval_set=[(X_train, y_train), (X_valid, y_valid)],\n",
    "    eval_name=['train', 'valid'],\n",
    "    max_epochs=5, patience=100,\n",
    "    batch_size=16384, virtual_batch_size=256\n",
    ")"
   ]
  },
  {
   "cell_type": "code",
   "execution_count": 52,
   "id": "39f38f50-11b3-47a1-bfae-a1c021f4635d",
   "metadata": {},
   "outputs": [
    {
     "data": {
      "text/plain": [
       "[<matplotlib.lines.Line2D at 0x2c35a771150>]"
      ]
     },
     "execution_count": 52,
     "metadata": {},
     "output_type": "execute_result"
    },
    {
     "data": {
      "image/png": "[encoded data removed]",
      "text/plain": [
       "<Figure size 432x288 with 1 Axes>"
      ]
     },
     "metadata": {
      "needs_background": "light"
     },
     "output_type": "display_data"
    }
   ],
   "source": [
    "plt.plot(clf.history['loss'])"
   ]
  },
  {
   "cell_type": "markdown",
   "id": "53d7ab9c-85f6-416d-8bc1-dc8dfa67a26b",
   "metadata": {},
   "source": [
    "В результате более длительного ранее проведенного эксперимента по обучению модели были получены значения ROC-AUC ~0.825, что существенно ниже по качеству чем модели на основе градиентного бустинга"
   ]
  },
  {
   "cell_type": "markdown",
   "id": "47fbbc2d-139d-4b65-86cf-ac7ce51a640f",
   "metadata": {},
   "source": [
    "**Выводы:**  \n",
    "1. Были проведены эксперименты по обучению классификатора с использованием моделей LightGBM с различными функциями потерь и TabNet\n",
    "2. Наилучшие результаты показала модель LightGBM с функцией потерь FocalLoss (ROC-AUC = 0.881). Данная функция потерь является более оптимальной для построения модели на сильно несбалансированных данных (доля целевого класса ~ 2%), так как позволяет более уверенно распознавать примеры сложных объектов.\n",
    "3. TabNet может быть обучен быстрее и качественне, например за счет нормализации входных признаков. Тем не менее анализ публикаций с использованием данной архитектуры показывает, что она показывает качество ниже чем ансамбли на основе решающих деревьев.\n",
    "4. В качестве оптимальной модели для дальнейшего использования предлагается взять LightGBM Classifier с функцией потерь FocalLoss"
   ]
  },
  {
   "cell_type": "markdown",
   "id": "425f0e22-c360-4adc-8b9a-409813ca3838",
   "metadata": {},
   "source": [
    "# Инференс сохраненной модели на PySpark"
   ]
  },
  {
   "cell_type": "markdown",
   "id": "ebfa4e4e-5818-41ba-9d16-7d3ed123ace2",
   "metadata": {},
   "source": [
    "Данный код выполнялся в Google Colab, перенесен в данный ноутбук для удобства. Для воспроизведения данного кода рекомендутся воспользоваться окружением Google Colab!!!"
   ]
  },
  {
   "cell_type": "code",
   "execution_count": null,
   "id": "d3f1e545-a16d-4eba-bfaa-305304f56c0b",
   "metadata": {},
   "outputs": [],
   "source": [
    "!apt-get install openjdk-8-jdk-headless -qq > /dev/null\n",
    "!wget -q https://archive.apache.org/dist/spark/spark-3.0.0/spark-3.0.0-bin-hadoop3.2.tgz"
   ]
  },
  {
   "cell_type": "code",
   "execution_count": null,
   "id": "fc5b1dc9-fd2d-41cf-8662-95b947656b31",
   "metadata": {},
   "outputs": [],
   "source": [
    "!tar xf spark-3.0.0-bin-hadoop3.2.tgz\n",
    "!pip install -q findspark==1.4.2 lightgbm"
   ]
  },
  {
   "cell_type": "code",
   "execution_count": null,
   "id": "118cab63-496b-43f3-b8bf-f525ab9403d8",
   "metadata": {},
   "outputs": [],
   "source": [
    "import os\n",
    "os.environ[\"JAVA_HOME\"] = \"/usr/lib/jvm/java-8-openjdk-amd64\"\n",
    "os.environ[\"SPARK_HOME\"] = \"/content/spark-3.0.0-bin-hadoop3.2\"\n",
    "import findspark\n",
    "findspark.init()"
   ]
  },
  {
   "cell_type": "code",
   "execution_count": null,
   "id": "c6afdea1-0ff9-49a0-8023-414a264f756d",
   "metadata": {},
   "outputs": [],
   "source": [
    "from pyspark.sql import SparkSession\n",
    "import pyspark.sql.functions as F\n",
    "from pyspark.sql.types import DoubleType\n",
    "import lightgbm as lgb\n",
    "import pandas as pd\n",
    "from scipy import special"
   ]
  },
  {
   "cell_type": "code",
   "execution_count": null,
   "id": "3d2d2422-1e66-4e79-8d6c-a735103a85a1",
   "metadata": {},
   "outputs": [],
   "source": [
    "spark = SparkSession.builder\\\n",
    "    .master('local[*]')\\\n",
    "    .appName('ExampleOfSparkSession')\\\n",
    "    .config(\"spark.executor.cores\", \"2\")\\\n",
    "    .config(\"spark.task.cpus\", \"2\")\\\n",
    "    .config(\"spark.driver.memory\", \"2g\")\\\n",
    "    .config(\"spark.executor.memory\", \"2g\")\\\n",
    "    .getOrCreate()"
   ]
  },
  {
   "cell_type": "code",
   "execution_count": null,
   "id": "cf051d1c-5baa-40fc-924c-53515c0f86d2",
   "metadata": {},
   "outputs": [],
   "source": [
    "clf = lgb.Booster(model_file=\"model.txt\")"
   ]
  },
  {
   "cell_type": "code",
   "execution_count": null,
   "id": "7e7f11da-7fae-448f-b184-32fd923715f0",
   "metadata": {},
   "outputs": [],
   "source": [
    "@F.pandas_udf(returnType='_c0 int, probability float', \n",
    "              functionType=F.PandasUDFType.GROUPED_MAP)\n",
    "def predict_udf(df):\n",
    "    df['probability'] = special.expit(clf.predict(df.iloc[:, 1:]))\n",
    "    return df.loc[:, ['_c0', 'probability']]"
   ]
  },
  {
   "cell_type": "code",
   "execution_count": null,
   "id": "9399e264-2f00-4c9a-931a-92f1da87b0c1",
   "metadata": {},
   "outputs": [],
   "source": [
    "df = (\n",
    "    spark.read.format(\"csv\")\n",
    "    .option(\"header\", True)\n",
    "    .option(\"inferSchema\", True)\n",
    "    .load(\n",
    "        \"train_processed.csv\"\n",
    "    )\n",
    ")"
   ]
  },
  {
   "cell_type": "code",
   "execution_count": null,
   "id": "7f85e7f3-0f12-44e5-9a24-a46b312de1bc",
   "metadata": {},
   "outputs": [],
   "source": [
    "result = df.groupBy(\"_c0\").apply(predict_udf)"
   ]
  },
  {
   "cell_type": "code",
   "execution_count": null,
   "id": "4ba3a6ad-fa52-4417-b61b-f23686acb915",
   "metadata": {},
   "outputs": [],
   "source": [
    "result.show()"
   ]
  }
 ],
 "metadata": {
  "kernelspec": {
   "display_name": "Python 3 (ipykernel)",
   "language": "python",
   "name": "python3"
  },
  "language_info": {
   "codemirror_mode": {
    "name": "ipython",
    "version": 3
   },
   "file_extension": ".py",
   "mimetype": "text/x-python",
   "name": "python",
   "nbconvert_exporter": "python",
   "pygments_lexer": "ipython3",
   "version": "3.10.4"
  }
 },
 "nbformat": 4,
 "nbformat_minor": 5
}
