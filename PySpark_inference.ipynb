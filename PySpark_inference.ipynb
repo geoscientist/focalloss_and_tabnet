{
  "nbformat": 4,
  "nbformat_minor": 0,
  "metadata": {
    "colab": {
      "name": "Копия блокнота \"PySpark - tele2.ipynb\"",
      "provenance": []
    },
    "kernelspec": {
      "name": "python3",
      "display_name": "Python 3"
    },
    "language_info": {
      "name": "python"
    }
  },
  "cells": [
    {
      "cell_type": "code",
      "execution_count": null,
      "metadata": {
        "id": "OgKYU9YKJCrQ"
      },
      "outputs": [],
      "source": [
        "!apt-get install openjdk-8-jdk-headless -qq > /dev/null\n",
        "!wget -q https://archive.apache.org/dist/spark/spark-3.0.0/spark-3.0.0-bin-hadoop3.2.tgz"
      ]
    },
    {
      "cell_type": "code",
      "source": [
        "!tar xf spark-3.0.0-bin-hadoop3.2.tgz\n",
        "!pip install -q findspark==1.4.2 catboost==1.0.3 lightgbm"
      ],
      "metadata": {
        "id": "YYq286bnKlpu"
      },
      "execution_count": null,
      "outputs": []
    },
    {
      "cell_type": "code",
      "source": [
        "import os\n",
        "os.environ[\"JAVA_HOME\"] = \"/usr/lib/jvm/java-8-openjdk-amd64\"\n",
        "os.environ[\"SPARK_HOME\"] = \"/content/spark-3.0.0-bin-hadoop3.2\"\n",
        "import findspark\n",
        "findspark.init()"
      ],
      "metadata": {
        "id": "bsvrr_JcJNte"
      },
      "execution_count": null,
      "outputs": []
    },
    {
      "cell_type": "code",
      "source": [
        "from pyspark.sql import SparkSession\n",
        "import pyspark.sql.functions as F\n",
        "from pyspark.sql.types import DoubleType\n",
        "import lightgbm as lgb\n",
        "import pandas as pd\n",
        "from scipy import special"
      ],
      "metadata": {
        "id": "3Toqi1vtJxLX"
      },
      "execution_count": null,
      "outputs": []
    },
    {
      "cell_type": "code",
      "source": [
        "spark = SparkSession.builder\\\n",
        "    .master('local[*]')\\\n",
        "    .appName('ExampleOfSparkSession')\\\n",
        "    .config(\"spark.executor.cores\", \"2\")\\\n",
        "    .config(\"spark.task.cpus\", \"2\")\\\n",
        "    .config(\"spark.driver.memory\", \"2g\")\\\n",
        "    .config(\"spark.executor.memory\", \"2g\")\\\n",
        "    .getOrCreate()"
      ],
      "metadata": {
        "id": "sdwaO2ngXQ1E"
      },
      "execution_count": null,
      "outputs": []
    },
    {
      "cell_type": "code",
      "source": [
        "spark"
      ],
      "metadata": {
        "colab": {
          "base_uri": "https://localhost:8080/",
          "height": 219
        },
        "id": "Ty16dXfTXRVz",
        "outputId": "5391c157-eaa4-4527-c2c5-dd8342a7b359"
      },
      "execution_count": null,
      "outputs": [
        {
          "output_type": "execute_result",
          "data": {
            "text/plain": [
              "<pyspark.sql.session.SparkSession at 0x7f91fc21df90>"
            ],
            "text/html": [
              "\n",
              "            <div>\n",
              "                <p><b>SparkSession - in-memory</b></p>\n",
              "                \n",
              "        <div>\n",
              "            <p><b>SparkContext</b></p>\n",
              "\n",
              "            <p><a href=\"http://03624b36df8e:4040\">Spark UI</a></p>\n",
              "\n",
              "            <dl>\n",
              "              <dt>Version</dt>\n",
              "                <dd><code>v3.0.0</code></dd>\n",
              "              <dt>Master</dt>\n",
              "                <dd><code>local[*]</code></dd>\n",
              "              <dt>AppName</dt>\n",
              "                <dd><code>ExampleOfSparkSession</code></dd>\n",
              "            </dl>\n",
              "        </div>\n",
              "        \n",
              "            </div>\n",
              "        "
            ]
          },
          "metadata": {},
          "execution_count": 28
        }
      ]
    },
    {
      "cell_type": "code",
      "source": [
        "clf = lgb.Booster(model_file=\"model.txt\")"
      ],
      "metadata": {
        "id": "VXWgVFaUY0le"
      },
      "execution_count": null,
      "outputs": []
    },
    {
      "cell_type": "code",
      "source": [
        "@F.pandas_udf(returnType='_c0 int, probability float', \n",
        "              functionType=F.PandasUDFType.GROUPED_MAP)\n",
        "def predict_udf(df):\n",
        "  #df['probability'] = (clf.predict(df.loc[:, features]))\n",
        "  df['probability'] = special.expit(clf.predict(df.iloc[:, 1:]))\n",
        "  return df.loc[:, ['_c0', 'probability']]"
      ],
      "metadata": {
        "id": "dkyOReM6Z0mF"
      },
      "execution_count": null,
      "outputs": []
    },
    {
      "cell_type": "code",
      "source": [
        "df = (\n",
        "    spark.read.format(\"csv\")\n",
        "    .option(\"header\", True)\n",
        "    .option(\"inferSchema\", True)\n",
        "    .load(\n",
        "        \"train_processed.csv\"\n",
        "    )\n",
        ")"
      ],
      "metadata": {
        "id": "3rZ8gGgseZ_F"
      },
      "execution_count": null,
      "outputs": []
    },
    {
      "cell_type": "code",
      "source": [
        "result = df.groupBy(\"_c0\").apply(predict_udf)"
      ],
      "metadata": {
        "id": "FNkuPTd3y3i_"
      },
      "execution_count": null,
      "outputs": []
    },
    {
      "cell_type": "code",
      "source": [
        "result.show()"
      ],
      "metadata": {
        "colab": {
          "base_uri": "https://localhost:8080/"
        },
        "id": "r6dvup6fRrfr",
        "outputId": "6e491d51-56f2-4d80-8bc3-b3b72c275ab8"
      },
      "execution_count": null,
      "outputs": [
        {
          "output_type": "stream",
          "name": "stdout",
          "text": [
            "+----+-----------+\n",
            "| _c0|probability|\n",
            "+----+-----------+\n",
            "| 148| 0.21629286|\n",
            "| 463| 0.44872618|\n",
            "| 471| 0.82074386|\n",
            "| 496|  0.8099793|\n",
            "| 833|  0.9274396|\n",
            "|1088|  0.7112847|\n",
            "|1238|  0.9221655|\n",
            "|1342|  0.8441214|\n",
            "|1580|  0.6109994|\n",
            "|1591| 0.33774775|\n",
            "|1645| 0.32753477|\n",
            "|1829| 0.41342494|\n",
            "|1959|  0.4297743|\n",
            "|2122|  0.7888445|\n",
            "|2142|  0.5039513|\n",
            "|2366| 0.41920605|\n",
            "|2659| 0.78282666|\n",
            "|2866|  0.5604404|\n",
            "|3175| 0.24821128|\n",
            "|3749|  0.6054854|\n",
            "+----+-----------+\n",
            "only showing top 20 rows\n",
            "\n"
          ]
        }
      ]
    },
    {
      "cell_type": "code",
      "source": [
        "print(df.count(), len(df.columns))"
      ],
      "metadata": {
        "colab": {
          "base_uri": "https://localhost:8080/"
        },
        "id": "a0rNRNZ-T0E0",
        "outputId": "2cf331ee-2648-4ace-d22b-a959035ed6a3"
      },
      "execution_count": null,
      "outputs": [
        {
          "output_type": "stream",
          "name": "stdout",
          "text": [
            "300000 70\n"
          ]
        }
      ]
    }
  ]
}